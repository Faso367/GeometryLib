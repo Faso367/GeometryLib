{
 "cells": [
  {
   "cell_type": "code",
   "execution_count": 20,
   "id": "2f89ff6a-0ee8-4d50-85f3-ef234e589702",
   "metadata": {},
   "outputs": [
    {
     "name": "stdout",
     "output_type": "stream",
     "text": [
      "Defaulting to user installation because normal site-packages is not writeable\n",
      "Requirement already satisfied: pyspark in c:\\users\\russia\\appdata\\roaming\\python\\python311\\site-packages (3.5.1)\n",
      "Requirement already satisfied: py4j==0.10.9.7 in c:\\users\\russia\\appdata\\roaming\\python\\python311\\site-packages (from pyspark) (0.10.9.7)\n"
     ]
    }
   ],
   "source": [
    "!pip install pyspark"
   ]
  },
  {
   "cell_type": "code",
   "execution_count": 15,
   "id": "85462a89-0c1e-462b-b789-37cc1a5db13d",
   "metadata": {},
   "outputs": [
    {
     "name": "stdout",
     "output_type": "stream",
     "text": [
      "Defaulting to user installation because normal site-packages is not writeable\n",
      "Requirement already satisfied: findspark in c:\\users\\russia\\appdata\\roaming\\python\\python311\\site-packages (2.0.1)\n"
     ]
    }
   ],
   "source": [
    "!pip install findspark"
   ]
  },
  {
   "cell_type": "code",
   "execution_count": 72,
   "id": "efcc39ed-ed52-438f-955c-00aae47ad63b",
   "metadata": {},
   "outputs": [
    {
     "name": "stdout",
     "output_type": "stream",
     "text": [
      "Все пары «Имя продукта – Имя категории»:\n",
      "+---------+------------+\n",
      "|  product|    category|\n",
      "+---------+------------+\n",
      "|sourCream|milkProducts|\n",
      "|   yogurt|milkProducts|\n",
      "|   cheese|milkProducts|\n",
      "|     milk|milkProducts|\n",
      "|  chicken|meatProducts|\n",
      "|   yogurt|   beverages|\n",
      "|    water|   beverages|\n",
      "|     milk|   beverages|\n",
      "+---------+------------+\n",
      "\n",
      "Имена продуктов, у которых нет категорий:\n",
      "bread tomato\n"
     ]
    }
   ],
   "source": [
    "import pyspark\n",
    "from pyspark.sql import SparkSession\n",
    "spark = SparkSession.builder.appName('Dataframe2').getOrCreate()\n",
    "\n",
    "data1 = [[\"1\", \"milkProducts\"], \n",
    "         [\"2\", \"meatProducts\"], \n",
    "         [\"3\", \"beverages\"],\n",
    "         [\"4\", \"fishProducts\"]] \n",
    "\n",
    "data2 = [[\"1\", \"sourCream\"],\n",
    "         [\"2\", \"yogurt\"],\n",
    "         [\"3\", \"chicken\"],\n",
    "         [\"4\", \"cheese\"],\n",
    "         [\"5\", \"water\"],\n",
    "         [\"6\", \"bread\"],\n",
    "         [\"7\", \"milk\"],\n",
    "         [\"8\", \"tomato\"]]\n",
    "\n",
    "dataKeys = [[\"1\", \"1\"],\n",
    "            [\"2\", \"1\"],\n",
    "            [\"2\", \"3\"],\n",
    "            [\"3\", \"2\"],\n",
    "            [\"4\", \"1\"],\n",
    "            [\"5\", \"3\"],\n",
    "            [\"7\", \"1\"],\n",
    "            [\"7\", \"3\"]\n",
    "           ]\n",
    "    \n",
    "columns1 = [\"id\", \"category\"] \n",
    "columns2 = [\"id\", \"product\"]\n",
    "keycolumns = [\"productid\", \"categoryid\"]\n",
    "\n",
    "dataframe1 = spark.createDataFrame(data1, columns1)\n",
    "dataframe2 = spark.createDataFrame(data2, columns2)\n",
    "dataframekeys = spark.createDataFrame(dataKeys, keycolumns)\n",
    "\n",
    "def MyMethod(dataframe1, dataframe2, dataframekeys):\n",
    "    join1 = dataframe2.join(dataframekeys,dataframe2.id == dataframekeys.productid, \"outer\")\n",
    "    join2 = join1.join(dataframe1,join1[\"categoryid\"] == dataframe1.id)\n",
    "    print(\"Все пары «Имя продукта – Имя категории»:\")\n",
    "    res = join2.select(join2[\"product\"], join2[\"category\"]).show()\n",
    "    \n",
    "    join3 = join1.join(dataframe1,join1[\"categoryid\"] == dataframe1.id, \"anti\")\n",
    "    listOfProducts = join3.select(join3[\"product\"]).collect()\n",
    "    print(\"Имена продуктов, у которых нет категорий:\")\n",
    "    print(listOfProducts[0].__getitem__('product'), listOfProducts[1].__getitem__('product'))\n",
    "\n",
    "MyMethod(dataframe1, dataframe2, dataframekeys)"
   ]
  },
  {
   "cell_type": "code",
   "execution_count": null,
   "id": "434c10dc-85ae-4fd3-86f1-9d8f51986ecb",
   "metadata": {},
   "outputs": [],
   "source": []
  }
 ],
 "metadata": {
  "kernelspec": {
   "display_name": "Python 3 (ipykernel)",
   "language": "python",
   "name": "python3"
  },
  "language_info": {
   "codemirror_mode": {
    "name": "ipython",
    "version": 3
   },
   "file_extension": ".py",
   "mimetype": "text/x-python",
   "name": "python",
   "nbconvert_exporter": "python",
   "pygments_lexer": "ipython3",
   "version": "3.11.1"
  }
 },
 "nbformat": 4,
 "nbformat_minor": 5
}
